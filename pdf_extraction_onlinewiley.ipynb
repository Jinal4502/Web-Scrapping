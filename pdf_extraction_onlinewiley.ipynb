{
 "cells": [
  {
   "cell_type": "code",
   "execution_count": 2,
   "id": "eb629802",
   "metadata": {},
   "outputs": [],
   "source": [
    "import requests\n",
    "from concurrent.futures import ThreadPoolExecutor\n",
    "import subprocess\n",
    "import time\n",
    "import re\n",
    "import pandas as pd\n",
    "import numpy as np\n",
    "import PyPDF2\n",
    "import os\n",
    "import ast\n",
    "from tqdm import tqdm\n",
    "from collections import OrderedDict\n",
    "import os\n",
    "import time\n",
    "import requests\n",
    "from selenium import webdriver\n",
    "from selenium.webdriver.chrome.service import Service\n",
    "from selenium.webdriver.common.by import By\n",
    "from selenium.webdriver.common.keys import Keys\n",
    "from webdriver_manager.chrome import ChromeDriverManager\n",
    "import pandas as pd\n",
    "import subprocess\n",
    "import time\n",
    "import undetected_chromedriver as uc\n",
    "import re\n"
   ]
  },
  {
   "cell_type": "code",
   "execution_count": 4,
   "id": "964cf2d2",
   "metadata": {},
   "outputs": [
    {
     "name": "stdout",
     "output_type": "stream",
     "text": [
      "Total unique PDF entries: 581\n"
     ]
    }
   ],
   "source": [
    "def get_pdf_links_with_titles(file_path):\n",
    "    pdf_dict = {}\n",
    "    with open(file_path, 'r', encoding='utf-8') as file:\n",
    "        for line in file:\n",
    "            line = line.strip()\n",
    "            if line.count(',') < 2:\n",
    "                continue  # not enough parts, skip\n",
    "            \n",
    "            parts = line.split(',')\n",
    "            scopus_id = parts[0].strip()\n",
    "            link = parts[-1].strip() if parts[-1].strip() else None\n",
    "            title = ','.join(parts[1:-1]).strip()  # join all parts between scopus_id and link\n",
    "            # if link and 'onlinelibrary.wiley.com' in link.lower():\n",
    "            if link and (('journals.sagepub.com' in link.lower()) or ('onlinelibrary.wiley.com' in link.lower())):\n",
    "            # if link and 'http' in link.lower():\n",
    "                pdf_dict[title] = {}\n",
    "                pdf_dict[title]['link'] = link\n",
    "                pdf_dict[title]['scopus_id'] = scopus_id\n",
    "    return pdf_dict\n",
    "\n",
    "if __name__ == \"__main__\":\n",
    "    all_pdfs = {}\n",
    "    \n",
    "    file_paths = [\n",
    "        # './Downloads/retrieved_links_new/retrieved_links_140000-145000.txt',\n",
    "        # './Downloads/retrieved_links_new/retrieved_links_145000-150000.txt',\n",
    "        # './Downloads/retrieved_links_new/retrieved_links_150000-155000.txt',\n",
    "        # './Downloads/retrieved_links_new/retrieved_links_155000-160000.txt',\n",
    "        # './Downloads/retrieved_links_new/retrieved_links_160000-165000.txt',\n",
    "        # './Downloads/retrieved_links_new/retrieved_links_165000-170000.txt',\n",
    "        # './Downloads/retrieved_links_new/retrieved_links_170000-175000.txt',\n",
    "        # './Downloads/retrieved_links_new/retrieved_links_175000-180000.txt',\n",
    "        # './Downloads/retrieved_links_new/retrieved_links_180000-185000.txt',\n",
    "        # './Downloads/retrieved_links_new/retrieved_links_185000-190000.txt',\n",
    "        # './Downloads/retrieved_links_new/retrieved_links_190000-195000.txt',\n",
    "        # './Downloads/retrieved_links_new/retrieved_links_195000-200000.txt',\n",
    "        # './Downloads/retrieved_links_new/retrieved_links_200000-202947.txt'\n",
    "        './Downloads/retrieved_links_new/retrieved_links_60000-65000.txt',\n",
    "        './Downloads/retrieved_links_new/retrieved_links_70000-75000.txt',\n",
    "        './Downloads/retrieved_links_new/retrieved_links_75000-80000.txt',\n",
    "        './Downloads/retrieved_links_new/retrieved_links_80000-85000.txt',\n",
    "        './Downloads/retrieved_links_new/retrieved_links_90000-95000.txt',\n",
    "    ]\n",
    "    \n",
    "    for path in file_paths:\n",
    "        pdf_dict = get_pdf_links_with_titles(path)\n",
    "        all_pdfs.update(pdf_dict)  # Merges new dict into main one\n",
    "\n",
    "    print(f\"Total unique PDF entries: {len(all_pdfs)}\")"
   ]
  },
  {
   "cell_type": "code",
   "execution_count": 6,
   "id": "60c196a7",
   "metadata": {},
   "outputs": [],
   "source": [
    "def slice_dict(d, start, end):\n",
    "    return dict(list(d.items())[start:end])"
   ]
  },
  {
   "cell_type": "code",
   "execution_count": 7,
   "id": "0b25d69e",
   "metadata": {},
   "outputs": [
    {
     "name": "stdout",
     "output_type": "stream",
     "text": [
      "❌ 92 SCOPUS IDs found in both batch and Excel file.\n",
      "Conflicting IDs: {'85167718099', '85174643607', '85174644188', '85152260698', '85174650820', '85170688696', '85167599061', '85170432061', '85167676690', '85169907330', '85168356594', '85151343188', '85176498562', '85127561844', '85167563496', '85160269909', '85174490763', '85167605398', '85178584796', '85169895781', '85167609604', '85169886179', '85167601631', '85167577292', '85167600319', '85170062006', '85178631370', '85167614833', '85178607727', '85167674050', '85169891397', '85179606952', '85160943993', '85170409978', '85152473553', '85174657687', '85167625548', '85178577223', '85152001981', '85166019789', '85152206701', '85178587230', '85167606016', '85167626075', '85174654302', '85169894413', '85152127240', '85171148523', '85168671336', '85178597522', '85160926152', '85151485300', '85178618841', '85166369401', '85152298173', '85178566098', '85174650564', '85166369883', '85167570254', '85172071918', '85178552564', '85172011518', '85174494936', '85178590649', '85167655494', '85151616478', '85167575776', '85152239314', '85153375390', '85167585086', '85174652892', '85166021083', '85178579854', '85127467777', '85169889695', '85151749717', '85151260781', '85167626991', '85187789348', '85160906314', '85167651565', '85179131173', '85152372662', '85167597201', '85167561749', '85166242506', '85166027767', '85174653028', '85166010083', '85167833408', '85167567625', '85152120854'}\n"
     ]
    }
   ],
   "source": [
    "batch = slice_dict(all_pdfs, 0, 600)\n",
    "        \n",
    "all_scopus_ids_in_data = {info['scopus_id'] for info in batch.values()}\n",
    "\n",
    "remove_df = pd.read_excel('/Users/dtuser/Downloads/Remove_Scopus.xlsx')\n",
    "\n",
    "# Extract SCOPUS IDs from Excel (assuming the column is named something like 'scopus_id')\n",
    "remove_scopus_ids = set(remove_df.iloc[:, 1].astype(str).str.extract(r'SCOPUS_ID:(\\d+)', expand=False).dropna())\n",
    "\n",
    "\n",
    "# Check for overlap\n",
    "overlap_ids = all_scopus_ids_in_data.intersection(remove_scopus_ids)\n",
    "\n",
    "# Report result\n",
    "if not overlap_ids:\n",
    "    print(\"✅ No SCOPUS IDs in the batch are present in the Excel file.\")\n",
    "else:\n",
    "    print(f\"❌ {len(overlap_ids)} SCOPUS IDs found in both batch and Excel file.\")\n",
    "    print(\"Conflicting IDs:\", overlap_ids)"
   ]
  },
  {
   "cell_type": "code",
   "execution_count": 8,
   "id": "22aaed2d",
   "metadata": {},
   "outputs": [
    {
     "name": "stdout",
     "output_type": "stream",
     "text": [
      "✅ No SCOPUS IDs in the batch are present in the Excel file.\n"
     ]
    }
   ],
   "source": [
    "# Remove entries from batch where info['scopus_id'] is in remove_scopus_ids\n",
    "filtered_batch = {\n",
    "    k: v for k, v in batch.items()\n",
    "    if v.get('scopus_id') not in remove_scopus_ids\n",
    "}\n",
    "batch = filtered_batch\n",
    "all_scopus_ids_in_data = {info['scopus_id'] for info in batch.values()}\n",
    "\n",
    "remove_df = pd.read_excel('/Users/dtuser/Downloads/Remove_Scopus.xlsx')\n",
    "\n",
    "# Extract SCOPUS IDs from Excel (assuming the column is named something like 'scopus_id')\n",
    "remove_scopus_ids = set(remove_df.iloc[:, 1].astype(str).str.extract(r'SCOPUS_ID:(\\d+)', expand=False).dropna())\n",
    "\n",
    "\n",
    "# Check for overlap\n",
    "overlap_ids = all_scopus_ids_in_data.intersection(remove_scopus_ids)\n",
    "\n",
    "# Report result\n",
    "if not overlap_ids:\n",
    "    print(\"✅ No SCOPUS IDs in the batch are present in the Excel file.\")\n",
    "else:\n",
    "    print(f\"❌ {len(overlap_ids)} SCOPUS IDs found in both batch and Excel file.\")\n",
    "    print(\"Conflicting IDs:\", overlap_ids)"
   ]
  },
  {
   "cell_type": "code",
   "execution_count": 12,
   "id": "2b8670c1",
   "metadata": {},
   "outputs": [],
   "source": [
    "def open_pdf_in_safari_and_save(pdf_url):\n",
    "    apple_script = f\"\"\"\n",
    "    tell application \"Safari\"\n",
    "    open location \"{pdf_url}\"\n",
    "    delay 7 -- Wait for the page to load and for the PDF to render\n",
    "    end tell\n",
    "    \n",
    "    \n",
    "    tell application \"System Events\"\n",
    "        tell process \"Safari\"\n",
    "            set frontmost to true  -- Ensure Safari remains the active window\n",
    "            delay 2.5\n",
    "        end tell\n",
    "    \n",
    "        -- Click the download button inside Safari\n",
    "        do shell script \"cliclick c:1400,128\" #---->onlinewiley\n",
    "        do shell script \"cliclick c:1348,129\" #---->sage_journal\n",
    "        delay 1\n",
    "    end tell\n",
    "    \n",
    "    tell application \"Safari\"\n",
    "        activate\n",
    "        tell front window\n",
    "            close current tab\n",
    "        end tell\n",
    "    end tell\n",
    "    \"\"\"\n",
    "\n",
    "    subprocess.run([\"osascript\", \"-e\", apple_script], text=True)"
   ]
  },
  {
   "cell_type": "code",
   "execution_count": 10,
   "id": "e0807034",
   "metadata": {},
   "outputs": [],
   "source": [
    "def clear_history():\n",
    "    apple_script = \"\"\"\n",
    "    tell application \"Safari\"\n",
    "        activate  -- Bring Safari to the front\n",
    "    end tell\n",
    "\n",
    "    delay 2  -- Give Safari time to come forward\n",
    "\n",
    "    tell application \"System Events\"\n",
    "        tell process \"Safari\"\n",
    "            set frontmost to true  -- Ensure Safari remains the active window\n",
    "            delay 1\n",
    "        end tell\n",
    "\n",
    "        -- Click at position 1\n",
    "        do shell script \"cliclick c:73,1\"\n",
    "        delay 1.5\n",
    "\n",
    "        -- Click at position 2\n",
    "        do shell script \"cliclick c:115,196\"\n",
    "        delay 1.5\n",
    "\n",
    "        -- Click at position 3\n",
    "        do shell script \"cliclick c:865,509\"\n",
    "        do shell script \"cliclick c:865,509\"\n",
    "        do shell script \"cliclick c:846,350\"\n",
    "        do shell script \"cliclick c:846,350\"\n",
    "        delay 3\n",
    "    end tell\n",
    "    \"\"\"\n",
    "\n",
    "    import subprocess\n",
    "    subprocess.run([\"osascript\", \"-e\", apple_script], text=True)\n"
   ]
  },
  {
   "cell_type": "code",
   "execution_count": null,
   "id": "c823e236",
   "metadata": {},
   "outputs": [],
   "source": [
    "os.mkdir('/Users/dtuser/Downloads/onlinewiley_pdfs_10Jul')"
   ]
  },
  {
   "cell_type": "code",
   "execution_count": 16,
   "id": "41d92003",
   "metadata": {},
   "outputs": [
    {
     "name": "stdout",
     "output_type": "stream",
     "text": [
      "42 0\n"
     ]
    },
    {
     "data": {
      "text/plain": [
       "(447, 42)"
      ]
     },
     "execution_count": 16,
     "metadata": {},
     "output_type": "execute_result"
    }
   ],
   "source": [
    "folder_path = '/Users/dtuser/Downloads/onlinewiley_pdfs_10Jul'\n",
    "\n",
    "scopus_ids_in_folder = set()\n",
    "for filename in os.listdir(folder_path):\n",
    "    if '-' in filename:\n",
    "        try:\n",
    "            scopus_id_part = filename.rsplit('-', 1)[-1].split('.')[0]\n",
    "            scopus_ids_in_folder.add(scopus_id_part)\n",
    "        except IndexError:\n",
    "            continue\n",
    "    else:\n",
    "        try:\n",
    "            if int(filename[:-4]):\n",
    "                scopus_id_part = filename[:-4]\n",
    "                scopus_ids_in_folder.add(scopus_id_part)\n",
    "        except:\n",
    "            continue\n",
    "        \n",
    "all_scopus_ids_in_data = {info['scopus_id'] for info in batch.values()}\n",
    "\n",
    "missing_scopus_ids = all_scopus_ids_in_data - scopus_ids_in_folder\n",
    "print(len(missing_scopus_ids), len(overlap_ids))\n",
    "missing_scopus_ids = missing_scopus_ids - overlap_ids\n",
    "\n",
    "missing_entries = {title: info for title, info in batch.items() if info['scopus_id'] in missing_scopus_ids}\n",
    "len(scopus_ids_in_folder), len(missing_entries)"
   ]
  },
  {
   "cell_type": "code",
   "execution_count": 15,
   "id": "aab6e9c2",
   "metadata": {},
   "outputs": [
    {
     "name": "stdout",
     "output_type": "stream",
     "text": [
      "📂 Renamed file to: /Users/dtuser/Downloads/onlinewiley_pdfs_10Jul/Analysis of the influence of renewable energy sources on thermal energy generation for isolated power systems Analysis of the influence of renewable energy sources on thermal energy generation for isolated power systems-85074046870.pdf\n",
      "⚠️ Filename too long, saved as: /Users/dtuser/Downloads/onlinewiley_pdfs_10Jul/85074334763.pdf\n",
      "⚠️ Filename too long, saved as: /Users/dtuser/Downloads/onlinewiley_pdfs_10Jul/85087464239.pdf\n"
     ]
    },
    {
     "ename": "KeyboardInterrupt",
     "evalue": "",
     "output_type": "error",
     "traceback": [
      "\u001b[31m---------------------------------------------------------------------------\u001b[39m",
      "\u001b[31mKeyboardInterrupt\u001b[39m                         Traceback (most recent call last)",
      "\u001b[36mCell\u001b[39m\u001b[36m \u001b[39m\u001b[32mIn[15]\u001b[39m\u001b[32m, line 10\u001b[39m\n\u001b[32m      8\u001b[39m scopus_id = info[\u001b[33m'\u001b[39m\u001b[33mscopus_id\u001b[39m\u001b[33m'\u001b[39m]\n\u001b[32m      9\u001b[39m \u001b[38;5;28;01mtry\u001b[39;00m:\n\u001b[32m---> \u001b[39m\u001b[32m10\u001b[39m     \u001b[43mopen_pdf_in_safari_and_save\u001b[49m\u001b[43m(\u001b[49m\u001b[43mlink\u001b[49m\u001b[43m)\u001b[49m\n\u001b[32m     11\u001b[39m     time.sleep(\u001b[32m2\u001b[39m)\n\u001b[32m     12\u001b[39m     files = os.listdir(\u001b[33m'\u001b[39m\u001b[33m./Downloads/\u001b[39m\u001b[33m'\u001b[39m)\n",
      "\u001b[36mCell\u001b[39m\u001b[36m \u001b[39m\u001b[32mIn[12]\u001b[39m\u001b[32m, line 29\u001b[39m, in \u001b[36mopen_pdf_in_safari_and_save\u001b[39m\u001b[34m(pdf_url)\u001b[39m\n\u001b[32m      1\u001b[39m \u001b[38;5;28;01mdef\u001b[39;00m\u001b[38;5;250m \u001b[39m\u001b[34mopen_pdf_in_safari_and_save\u001b[39m(pdf_url):\n\u001b[32m      2\u001b[39m     apple_script = \u001b[33mf\u001b[39m\u001b[33m\"\"\"\u001b[39m\n\u001b[32m      3\u001b[39m \u001b[33m    tell application \u001b[39m\u001b[33m\"\u001b[39m\u001b[33mSafari\u001b[39m\u001b[33m\"\u001b[39m\n\u001b[32m      4\u001b[39m \u001b[33m    open location \u001b[39m\u001b[33m\"\u001b[39m\u001b[38;5;132;01m{\u001b[39;00mpdf_url\u001b[38;5;132;01m}\u001b[39;00m\u001b[33m\"\u001b[39m\n\u001b[32m   (...)\u001b[39m\u001b[32m     26\u001b[39m \u001b[33m    end tell\u001b[39m\n\u001b[32m     27\u001b[39m \u001b[33m    \u001b[39m\u001b[33m\"\"\"\u001b[39m\n\u001b[32m---> \u001b[39m\u001b[32m29\u001b[39m     \u001b[43msubprocess\u001b[49m\u001b[43m.\u001b[49m\u001b[43mrun\u001b[49m\u001b[43m(\u001b[49m\u001b[43m[\u001b[49m\u001b[33;43m\"\u001b[39;49m\u001b[33;43mosascript\u001b[39;49m\u001b[33;43m\"\u001b[39;49m\u001b[43m,\u001b[49m\u001b[43m \u001b[49m\u001b[33;43m\"\u001b[39;49m\u001b[33;43m-e\u001b[39;49m\u001b[33;43m\"\u001b[39;49m\u001b[43m,\u001b[49m\u001b[43m \u001b[49m\u001b[43mapple_script\u001b[49m\u001b[43m]\u001b[49m\u001b[43m,\u001b[49m\u001b[43m \u001b[49m\u001b[43mtext\u001b[49m\u001b[43m=\u001b[49m\u001b[38;5;28;43;01mTrue\u001b[39;49;00m\u001b[43m)\u001b[49m\n",
      "\u001b[36mFile \u001b[39m\u001b[32m/Library/Frameworks/Python.framework/Versions/3.12/lib/python3.12/subprocess.py:552\u001b[39m, in \u001b[36mrun\u001b[39m\u001b[34m(input, capture_output, timeout, check, *popenargs, **kwargs)\u001b[39m\n\u001b[32m    550\u001b[39m \u001b[38;5;28;01mwith\u001b[39;00m Popen(*popenargs, **kwargs) \u001b[38;5;28;01mas\u001b[39;00m process:\n\u001b[32m    551\u001b[39m     \u001b[38;5;28;01mtry\u001b[39;00m:\n\u001b[32m--> \u001b[39m\u001b[32m552\u001b[39m         stdout, stderr = \u001b[43mprocess\u001b[49m\u001b[43m.\u001b[49m\u001b[43mcommunicate\u001b[49m\u001b[43m(\u001b[49m\u001b[38;5;28;43minput\u001b[39;49m\u001b[43m,\u001b[49m\u001b[43m \u001b[49m\u001b[43mtimeout\u001b[49m\u001b[43m=\u001b[49m\u001b[43mtimeout\u001b[49m\u001b[43m)\u001b[49m\n\u001b[32m    553\u001b[39m     \u001b[38;5;28;01mexcept\u001b[39;00m TimeoutExpired \u001b[38;5;28;01mas\u001b[39;00m exc:\n\u001b[32m    554\u001b[39m         process.kill()\n",
      "\u001b[36mFile \u001b[39m\u001b[32m/Library/Frameworks/Python.framework/Versions/3.12/lib/python3.12/subprocess.py:1203\u001b[39m, in \u001b[36mPopen.communicate\u001b[39m\u001b[34m(self, input, timeout)\u001b[39m\n\u001b[32m   1201\u001b[39m         stderr = \u001b[38;5;28mself\u001b[39m.stderr.read()\n\u001b[32m   1202\u001b[39m         \u001b[38;5;28mself\u001b[39m.stderr.close()\n\u001b[32m-> \u001b[39m\u001b[32m1203\u001b[39m     \u001b[38;5;28;43mself\u001b[39;49m\u001b[43m.\u001b[49m\u001b[43mwait\u001b[49m\u001b[43m(\u001b[49m\u001b[43m)\u001b[49m\n\u001b[32m   1204\u001b[39m \u001b[38;5;28;01melse\u001b[39;00m:\n\u001b[32m   1205\u001b[39m     \u001b[38;5;28;01mif\u001b[39;00m timeout \u001b[38;5;129;01mis\u001b[39;00m \u001b[38;5;129;01mnot\u001b[39;00m \u001b[38;5;28;01mNone\u001b[39;00m:\n",
      "\u001b[36mFile \u001b[39m\u001b[32m/Library/Frameworks/Python.framework/Versions/3.12/lib/python3.12/subprocess.py:1266\u001b[39m, in \u001b[36mPopen.wait\u001b[39m\u001b[34m(self, timeout)\u001b[39m\n\u001b[32m   1264\u001b[39m     endtime = _time() + timeout\n\u001b[32m   1265\u001b[39m \u001b[38;5;28;01mtry\u001b[39;00m:\n\u001b[32m-> \u001b[39m\u001b[32m1266\u001b[39m     \u001b[38;5;28;01mreturn\u001b[39;00m \u001b[38;5;28;43mself\u001b[39;49m\u001b[43m.\u001b[49m\u001b[43m_wait\u001b[49m\u001b[43m(\u001b[49m\u001b[43mtimeout\u001b[49m\u001b[43m=\u001b[49m\u001b[43mtimeout\u001b[49m\u001b[43m)\u001b[49m\n\u001b[32m   1267\u001b[39m \u001b[38;5;28;01mexcept\u001b[39;00m \u001b[38;5;167;01mKeyboardInterrupt\u001b[39;00m:\n\u001b[32m   1268\u001b[39m     \u001b[38;5;66;03m# https://bugs.python.org/issue25942\u001b[39;00m\n\u001b[32m   1269\u001b[39m     \u001b[38;5;66;03m# The first keyboard interrupt waits briefly for the child to\u001b[39;00m\n\u001b[32m   1270\u001b[39m     \u001b[38;5;66;03m# exit under the common assumption that it also received the ^C\u001b[39;00m\n\u001b[32m   1271\u001b[39m     \u001b[38;5;66;03m# generated SIGINT and will exit rapidly.\u001b[39;00m\n\u001b[32m   1272\u001b[39m     \u001b[38;5;28;01mif\u001b[39;00m timeout \u001b[38;5;129;01mis\u001b[39;00m \u001b[38;5;129;01mnot\u001b[39;00m \u001b[38;5;28;01mNone\u001b[39;00m:\n",
      "\u001b[36mFile \u001b[39m\u001b[32m/Library/Frameworks/Python.framework/Versions/3.12/lib/python3.12/subprocess.py:2061\u001b[39m, in \u001b[36mPopen._wait\u001b[39m\u001b[34m(self, timeout)\u001b[39m\n\u001b[32m   2059\u001b[39m \u001b[38;5;28;01mif\u001b[39;00m \u001b[38;5;28mself\u001b[39m.returncode \u001b[38;5;129;01mis\u001b[39;00m \u001b[38;5;129;01mnot\u001b[39;00m \u001b[38;5;28;01mNone\u001b[39;00m:\n\u001b[32m   2060\u001b[39m     \u001b[38;5;28;01mbreak\u001b[39;00m  \u001b[38;5;66;03m# Another thread waited.\u001b[39;00m\n\u001b[32m-> \u001b[39m\u001b[32m2061\u001b[39m (pid, sts) = \u001b[38;5;28;43mself\u001b[39;49m\u001b[43m.\u001b[49m\u001b[43m_try_wait\u001b[49m\u001b[43m(\u001b[49m\u001b[32;43m0\u001b[39;49m\u001b[43m)\u001b[49m\n\u001b[32m   2062\u001b[39m \u001b[38;5;66;03m# Check the pid and loop as waitpid has been known to\u001b[39;00m\n\u001b[32m   2063\u001b[39m \u001b[38;5;66;03m# return 0 even without WNOHANG in odd situations.\u001b[39;00m\n\u001b[32m   2064\u001b[39m \u001b[38;5;66;03m# http://bugs.python.org/issue14396.\u001b[39;00m\n\u001b[32m   2065\u001b[39m \u001b[38;5;28;01mif\u001b[39;00m pid == \u001b[38;5;28mself\u001b[39m.pid:\n",
      "\u001b[36mFile \u001b[39m\u001b[32m/Library/Frameworks/Python.framework/Versions/3.12/lib/python3.12/subprocess.py:2019\u001b[39m, in \u001b[36mPopen._try_wait\u001b[39m\u001b[34m(self, wait_flags)\u001b[39m\n\u001b[32m   2017\u001b[39m \u001b[38;5;250m\u001b[39m\u001b[33;03m\"\"\"All callers to this function MUST hold self._waitpid_lock.\"\"\"\u001b[39;00m\n\u001b[32m   2018\u001b[39m \u001b[38;5;28;01mtry\u001b[39;00m:\n\u001b[32m-> \u001b[39m\u001b[32m2019\u001b[39m     (pid, sts) = \u001b[43mos\u001b[49m\u001b[43m.\u001b[49m\u001b[43mwaitpid\u001b[49m\u001b[43m(\u001b[49m\u001b[38;5;28;43mself\u001b[39;49m\u001b[43m.\u001b[49m\u001b[43mpid\u001b[49m\u001b[43m,\u001b[49m\u001b[43m \u001b[49m\u001b[43mwait_flags\u001b[49m\u001b[43m)\u001b[49m\n\u001b[32m   2020\u001b[39m \u001b[38;5;28;01mexcept\u001b[39;00m \u001b[38;5;167;01mChildProcessError\u001b[39;00m:\n\u001b[32m   2021\u001b[39m     \u001b[38;5;66;03m# This happens if SIGCLD is set to be ignored or waiting\u001b[39;00m\n\u001b[32m   2022\u001b[39m     \u001b[38;5;66;03m# for child processes has otherwise been disabled for our\u001b[39;00m\n\u001b[32m   2023\u001b[39m     \u001b[38;5;66;03m# process.  This child is dead, we can't get the status.\u001b[39;00m\n\u001b[32m   2024\u001b[39m     pid = \u001b[38;5;28mself\u001b[39m.pid\n",
      "\u001b[31mKeyboardInterrupt\u001b[39m: "
     ]
    }
   ],
   "source": [
    "download_path = '/Users/dtuser/Downloads/onlinewiley_pdfs_10Jul'\n",
    "count = 0\n",
    "for title, info in missing_entries.items():\n",
    "    count += 1\n",
    "    if count % 40 == 0:\n",
    "        clear_history()\n",
    "    link = info['link']\n",
    "    scopus_id = info['scopus_id']\n",
    "    try:\n",
    "        open_pdf_in_safari_and_save(link)\n",
    "        time.sleep(2)\n",
    "        files = os.listdir('./Downloads/')\n",
    "        pdf_files = [f for f in files if f.endswith(\".pdf\")]\n",
    "        current_time = time.time()\n",
    "        recent_files = [\n",
    "            os.path.join('', f)\n",
    "            for f in pdf_files\n",
    "            if current_time - os.path.getctime(os.path.join('./Downloads/', f)) <= 10\n",
    "        ]\n",
    "        \n",
    "        if recent_files == []:\n",
    "            continue\n",
    "        safe_title = re.sub(r'</?inf>', '', title)\n",
    "        safe_title = re.sub(r'[^A-Za-z0-9 ]+', '', safe_title)\n",
    "        safe_title = safe_title.strip() + '-' + scopus_id\n",
    "        new_name = os.path.join(download_path, f\"{safe_title}.pdf\")  # Rename with title\n",
    "        latest_file = max([os.path.join('./Downloads', f) for f in recent_files], key=os.path.getctime)\n",
    "        try:\n",
    "            os.rename(latest_file, new_name)\n",
    "            print(f\"📂 Renamed file to: {new_name}\")\n",
    "        except OSError as e:\n",
    "            if e.errno == 63:  \n",
    "                fallback_name = os.path.join(download_path, f\"{scopus_id}.pdf\")\n",
    "                os.rename(latest_file, fallback_name)\n",
    "                print(f\"⚠️ Filename too long, saved as: {fallback_name}\")\n",
    "            else:\n",
    "                raise e \n",
    "        continue\n",
    "    except Exception as e:\n",
    "        print(f\"❌ Error processing ScienceDirect PDF: {e}\")\n",
    "        continue   "
   ]
  },
  {
   "cell_type": "code",
   "execution_count": null,
   "id": "5c23a568",
   "metadata": {},
   "outputs": [],
   "source": [
    "count"
   ]
  },
  {
   "cell_type": "code",
   "execution_count": null,
   "id": "6b0dd61a",
   "metadata": {},
   "outputs": [],
   "source": []
  }
 ],
 "metadata": {
  "kernelspec": {
   "display_name": "Python 3 (ipykernel)",
   "language": "python",
   "name": "python3"
  },
  "language_info": {
   "codemirror_mode": {
    "name": "ipython",
    "version": 3
   },
   "file_extension": ".py",
   "mimetype": "text/x-python",
   "name": "python",
   "nbconvert_exporter": "python",
   "pygments_lexer": "ipython3",
   "version": "3.12.9"
  }
 },
 "nbformat": 4,
 "nbformat_minor": 5
}
